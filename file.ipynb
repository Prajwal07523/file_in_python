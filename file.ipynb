{
 "cells": [
  {
   "cell_type": "code",
   "execution_count": 1,
   "id": "5dc25a0a-511c-46fa-bc2e-f8f5f342879b",
   "metadata": {},
   "outputs": [],
   "source": [
    "# Q1. Which function is used to open a file? What are the different modes of opening a file? Explain each mode of file opening"
   ]
  },
  {
   "cell_type": "markdown",
   "id": "deca148a-b790-4429-8975-4dd1a5e3fd83",
   "metadata": {},
   "source": [
    "open()\n",
    "r: read mode. This mode is used to open an existing file for reading only. If the file does not exist, an error will occur.\n",
    "w: write mode. This mode is used to create a new file or overwrite an existing file. If the file does not exist, a new file will be created. If     the file exists, the contents of the file will be erased.\n",
    "a: append mode. This mode is used to open an existing file for writing at the end of the file. If the file does not exist, a new file will be      created.\n",
    "+: read and write mode. This mode is used to open a file for both reading and writing."
   ]
  },
  {
   "cell_type": "markdown",
   "id": "459416c0-a243-411a-baa2-0a0480707f37",
   "metadata": {},
   "source": [
    "Q2. Why close() function is used? Why is it important to close a file?\n",
    "    The close() function is used to close a file that has been opened using the open() function in Python. It is important to close a file after we have finished working with it because it ensures that any changes we made to the file are written to the disk, and it frees up system resources that were being used by the open file."
   ]
  },
  {
   "cell_type": "markdown",
   "id": "e0c133d7-fbb1-4ee5-a798-6cd02f23d03b",
   "metadata": {},
   "source": [
    "Q3. Write a python program to create a text file. Write ‘I want to become a Data Scientist’ in that file. Then \n",
    "  close the file. Open this file and read the content of the file.  \n"
   ]
  },
  {
   "cell_type": "code",
   "execution_count": 6,
   "id": "a31b5d71-43a7-4cb8-8699-b795a0261a01",
   "metadata": {},
   "outputs": [],
   "source": [
    "file=open('data_science.txt',\"w\")"
   ]
  },
  {
   "cell_type": "code",
   "execution_count": 7,
   "id": "913bd12b-5549-43d2-bd8f-d0dff934e204",
   "metadata": {},
   "outputs": [
    {
     "data": {
      "text/plain": [
       "33"
      ]
     },
     "execution_count": 7,
     "metadata": {},
     "output_type": "execute_result"
    }
   ],
   "source": [
    "file.write('I want to become a Data Scientist')"
   ]
  },
  {
   "cell_type": "code",
   "execution_count": 8,
   "id": "803e0002-7806-49f7-b6eb-380c7da81347",
   "metadata": {},
   "outputs": [],
   "source": [
    "file.close()"
   ]
  },
  {
   "cell_type": "code",
   "execution_count": 9,
   "id": "72a579f5-130d-4bb8-8a4b-0e0d8839ce55",
   "metadata": {},
   "outputs": [],
   "source": [
    "file=open('data_science.txt',\"r\")"
   ]
  },
  {
   "cell_type": "code",
   "execution_count": 10,
   "id": "dfdc15c3-f993-4df5-a739-77036071564c",
   "metadata": {},
   "outputs": [],
   "source": [
    "content=file.read()"
   ]
  },
  {
   "cell_type": "code",
   "execution_count": 11,
   "id": "03ee3b56-a585-4f68-b4a7-3801b096fc51",
   "metadata": {},
   "outputs": [
    {
     "name": "stdout",
     "output_type": "stream",
     "text": [
      "I want to become a Data Scientist\n"
     ]
    }
   ],
   "source": [
    "print(content)"
   ]
  },
  {
   "cell_type": "code",
   "execution_count": 12,
   "id": "49a64cdd-7d8d-4854-8c7e-409f4e964c9c",
   "metadata": {},
   "outputs": [],
   "source": [
    "#Q4. Explain the following with python code: read(), readline() and readlines()"
   ]
  },
  {
   "cell_type": "code",
   "execution_count": 39,
   "id": "63efe6df-fee4-4991-981c-31b76f03397e",
   "metadata": {},
   "outputs": [
    {
     "data": {
      "text/plain": [
       "'I want to become a Data Scientist\\ni want to learn machine learning'"
      ]
     },
     "execution_count": 39,
     "metadata": {},
     "output_type": "execute_result"
    }
   ],
   "source": [
    "file=open('data_science.txt',\"r\")\n",
    "content=file.read()\n",
    "content\n",
    "##The read() method is used to read the entire contents of a file\n"
   ]
  },
  {
   "cell_type": "code",
   "execution_count": 40,
   "id": "6011c649-e532-4bb6-9cf8-fe9de5f5ed33",
   "metadata": {},
   "outputs": [],
   "source": [
    "file.close()"
   ]
  },
  {
   "cell_type": "code",
   "execution_count": 41,
   "id": "5d4cb92f-9c3c-4170-b025-985850a16bb3",
   "metadata": {},
   "outputs": [
    {
     "data": {
      "text/plain": [
       "'I want to become a Data Scientist\\n'"
      ]
     },
     "execution_count": 41,
     "metadata": {},
     "output_type": "execute_result"
    }
   ],
   "source": [
    "file=open('data_science.txt',\"r\")\n",
    "content2=file.readline()\n",
    "content2\n",
    "#The readline() method is used to read a single line from a file"
   ]
  },
  {
   "cell_type": "code",
   "execution_count": 42,
   "id": "aa5fb5ba-21dc-4517-b267-deda64541a4f",
   "metadata": {},
   "outputs": [],
   "source": [
    "file.close()"
   ]
  },
  {
   "cell_type": "code",
   "execution_count": 43,
   "id": "6922aff7-4fd2-4221-8759-a883de25d7ca",
   "metadata": {},
   "outputs": [],
   "source": [
    "file=open('data_science.txt',\"r\")\n",
    "content3=file.readlines()"
   ]
  },
  {
   "cell_type": "code",
   "execution_count": 44,
   "id": "027aaa1d-57e6-456b-99e7-38b90a5189d6",
   "metadata": {},
   "outputs": [
    {
     "name": "stdout",
     "output_type": "stream",
     "text": [
      "I want to become a Data Scientist\n",
      "\n",
      "i want to learn machine learning\n"
     ]
    }
   ],
   "source": [
    "for content in content3:\n",
    "    print(content)\n",
    "#The readlines() method is used to read all the lines of a file and return them as a list. "
   ]
  },
  {
   "cell_type": "code",
   "execution_count": 45,
   "id": "f7e3950c-5f05-4d37-9e2d-ee02a6b10da6",
   "metadata": {},
   "outputs": [],
   "source": [
    "file.close()"
   ]
  },
  {
   "cell_type": "code",
   "execution_count": 46,
   "id": "c098af47-9559-45b6-8d11-44b4737bcf1a",
   "metadata": {},
   "outputs": [],
   "source": [
    "#Q5. Explain why with statement is used with open(). What is the advantage of using with statement and open() together?"
   ]
  },
  {
   "cell_type": "code",
   "execution_count": 48,
   "id": "b56c04d4-c54e-44d1-99e5-d1c4391cbdda",
   "metadata": {},
   "outputs": [],
   "source": [
    "# When we use the with statement with the open() function to open a file, the file is automatically closed when we exit the context of the with statement.\n",
    "# The advantage of using with statement with open() together is that it ensures that the file is closed properly, even if an error occurs  while we are working with the file.     "
   ]
  },
  {
   "cell_type": "code",
   "execution_count": 49,
   "id": "7d798e3e-0ef5-439a-bf59-dc0b04a6d342",
   "metadata": {},
   "outputs": [],
   "source": [
    "# Q6. Explain the write() and writelines() functions. Give a suitable example"
   ]
  },
  {
   "cell_type": "code",
   "execution_count": 51,
   "id": "3e0117a2-c6c0-41bc-97d3-25ad37bdadba",
   "metadata": {},
   "outputs": [],
   "source": [
    "file=open('data_science.txt',\"w\")\n",
    "writes=file.write('This is an example string.')"
   ]
  },
  {
   "cell_type": "code",
   "execution_count": 54,
   "id": "d076e4a0-40d0-413f-9af0-0843cbbd81bc",
   "metadata": {},
   "outputs": [
    {
     "data": {
      "text/plain": [
       "26"
      ]
     },
     "execution_count": 54,
     "metadata": {},
     "output_type": "execute_result"
    }
   ],
   "source": [
    "writes\n",
    "# The write() function is used to write a single string to a file"
   ]
  },
  {
   "cell_type": "code",
   "execution_count": 55,
   "id": "006c0533-d264-4a6c-ac5f-98281b36e75b",
   "metadata": {},
   "outputs": [],
   "source": [
    "file.close()"
   ]
  },
  {
   "cell_type": "code",
   "execution_count": 61,
   "id": "a078747b-a4ed-45c0-b873-e3d22218a119",
   "metadata": {},
   "outputs": [],
   "source": [
    "file=open('data_science.txt',\"w\")\n",
    "line=['this is the web development course','data science masters','complete python in 100 days']\n",
    "line=file.writelines(line)"
   ]
  },
  {
   "cell_type": "code",
   "execution_count": 62,
   "id": "ca690190-2a89-41aa-984d-28ee01fc4122",
   "metadata": {},
   "outputs": [],
   "source": [
    "# The writelines() function is used to write a list of strings to a file."
   ]
  },
  {
   "cell_type": "code",
   "execution_count": null,
   "id": "c4b366eb-3e93-40f7-b1e9-ab0f69f91818",
   "metadata": {},
   "outputs": [],
   "source": []
  }
 ],
 "metadata": {
  "kernelspec": {
   "display_name": "Python 3 (ipykernel)",
   "language": "python",
   "name": "python3"
  },
  "language_info": {
   "codemirror_mode": {
    "name": "ipython",
    "version": 3
   },
   "file_extension": ".py",
   "mimetype": "text/x-python",
   "name": "python",
   "nbconvert_exporter": "python",
   "pygments_lexer": "ipython3",
   "version": "3.10.8"
  }
 },
 "nbformat": 4,
 "nbformat_minor": 5
}
